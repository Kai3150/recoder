{
 "cells": [
  {
   "cell_type": "code",
   "execution_count": null,
   "id": "ecdd9a14-73be-4a9a-aee4-a99616e47497",
   "metadata": {},
   "outputs": [],
   "source": [
    "import ffmpeg\n",
    "\n",
    "\n",
    "def convert_mp(mp4='test1.mp4', mp3=\"test1.mp3\"):\n",
    "    # 入力 \n",
    "    stream = ffmpeg.input(mp4) \n",
    "    # 出力 \n",
    "    stream = ffmpeg.output(stream, mp3) \n",
    "    # 実行 \n",
    "    ffmpeg.run(stream)\n"
   ]
  }
 ],
 "metadata": {
  "kernelspec": {
   "display_name": "Python 3 (ipykernel)",
   "language": "python",
   "name": "python3"
  },
  "language_info": {
   "codemirror_mode": {
    "name": "ipython",
    "version": 3
   },
   "file_extension": ".py",
   "mimetype": "text/x-python",
   "name": "python",
   "nbconvert_exporter": "python",
   "pygments_lexer": "ipython3",
   "version": "3.8.8"
  }
 },
 "nbformat": 4,
 "nbformat_minor": 5
}
